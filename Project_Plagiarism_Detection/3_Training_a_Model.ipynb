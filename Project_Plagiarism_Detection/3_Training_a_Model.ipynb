{
 "cells": [
  {
   "cell_type": "markdown",
   "metadata": {},
   "source": [
    "# 剽窃检测模型\n",
    "\n",
    "创建了训练和测试数据后，可以定义和训练模型了。在此 notebook 中，你的目标是训练一个二元分类模型，它会根据你提供的特征学习将答案文件标为剽窃文件或非剽窃文件。\n",
    "\n",
    "此任务将分成以下几个步骤：\n",
    "\n",
    "* 将数据上传到 S3。\n",
    "* 定义一个二元分类模型和训练脚本。\n",
    "* 训练和部署模型。\n",
    "* 评估部署的分类器并回答关于所采用方法的一些问题。\n",
    "\n",
    "要完成此 notebook，你需要完成此 notebook 中的所有练习并回答所有问题。\n",
    "> 所有任务将清晰地标为**练习**，问题都标为**问题**。\n",
    "\n",
    "你可以尝试不同的分类模型，并选择一个在此数据集上效果最佳的模型。\n",
    "\n",
    "---"
   ]
  },
  {
   "cell_type": "markdown",
   "metadata": {},
   "source": [
    "## 将数据上传到 S3\n",
    "\n",
    "在上个 notebook 中，你应该使用给定剽窃/非剽窃文本数据语料库的特征和类别标签创建了两个文件：`training.csv` 和 `test.csv` 文件。\n",
    "\n",
    ">以下单元格将加载一些 AWS SageMaker 库并创建一个默认存储桶。创建此存储桶后，你可以将本地存储的数据上传到 S3。\n",
    "\n",
    "将训练和测试 `.csv` 特征文件保存到本地。你可以在 SageMaker 中运行第二个 notebook“2_Plagiarism_Feature_Engineering”，或者使用 Jupyter Lab 中的上传图标手动将文件上传到此 notebook。然后，你可以使用 `sagemaker_session.upload_data` 将本地文件上传到 S3，并直接指向训练数据的存储位置。"
   ]
  },
  {
   "cell_type": "code",
   "execution_count": 1,
   "metadata": {},
   "outputs": [],
   "source": [
    "import pandas as pd\n",
    "import boto3\n",
    "import sagemaker"
   ]
  },
  {
   "cell_type": "code",
   "execution_count": 2,
   "metadata": {},
   "outputs": [],
   "source": [
    "\"\"\"\n",
    "DON'T MODIFY ANYTHING IN THIS CELL THAT IS BELOW THIS LINE\n",
    "\"\"\"\n",
    "# session and role\n",
    "sagemaker_session = sagemaker.Session()\n",
    "role = sagemaker.get_execution_role()\n",
    "\n",
    "# create an S3 bucket\n",
    "bucket = sagemaker_session.default_bucket()"
   ]
  },
  {
   "cell_type": "markdown",
   "metadata": {},
   "source": [
    "## 练习：将训练数据上传到 S3\n",
    "\n",
    "指定在其中保存了 `train.csv` 文件的 `data_dir`。指定一个描述性 `prefix`，指出数据将上传到默认 S3 存储桶的什么位置。最后，通过调用 `sagemaker_session.upload_data` 并传入必要的参数，创建一个指向训练数据的指针。建议参考 [Session 文档](https://sagemaker.readthedocs.io/en/stable/session.html#sagemaker.session.Session.upload_data)或之前的 SageMaker 代码示例。\n",
    "\n",
    "你需要上传整个目录。之后，训练脚本将仅访问 `train.csv` 文件。"
   ]
  },
  {
   "cell_type": "code",
   "execution_count": 3,
   "metadata": {},
   "outputs": [
    {
     "name": "stdout",
     "output_type": "stream",
     "text": [
      "s3://sagemaker-us-west-2-270372225889/sagemaker/plagiarism_project\n"
     ]
    }
   ],
   "source": [
    "# should be the name of directory you created to save your features data\n",
    "data_dir = 'plagiarism_data'\n",
    "\n",
    "# set prefix, a descriptive name for a directory  \n",
    "prefix = 'sagemaker/plagiarism_project'\n",
    "\n",
    "# upload all data to S3\n",
    "input_data = sagemaker_session.upload_data(path=data_dir, bucket=bucket, key_prefix=prefix)\n",
    "print(input_data)"
   ]
  },
  {
   "cell_type": "markdown",
   "metadata": {},
   "source": [
    "### 测试单元格\n",
    "\n",
    "测试数据是否已成功上传。以下单元格将输出 S3 存储桶中的内容，如果为空，将抛出错误。你应该看到 `data_dir` 的内容，或许还有一些检查点。如果你看到其中列出了任何其他文件，那么你也许有一些旧的模型文件，你可以通过 S3 控制台删除这些旧文件（不过多余的文件应该不会影响在此 notebook 中开发的模型的性能）。"
   ]
  },
  {
   "cell_type": "code",
   "execution_count": 4,
   "metadata": {},
   "outputs": [
    {
     "name": "stdout",
     "output_type": "stream",
     "text": [
      "counties/kmeans-2020-04-16-12-43-56-604/output/model.tar.gz\n",
      "counties/pca-2020-04-15-13-19-51-881/output/model.tar.gz\n",
      "counties/pca-2020-04-16-12-05-18-083/output/model.tar.gz\n",
      "creditcard/linear-learner-2020-04-18-04-35-18-741/output/model.tar.gz\n",
      "creditcard/linear-learner-2020-04-18-04-54-20-427/output/model.tar.gz\n",
      "linear-learner-2020-04-18-03-41-05-401/output/model.tar.gz\n",
      "moonproject/sagemaker-pytorch-2020-04-18-11-15-26-852/debug-output/training_job_end.ts\n",
      "moonproject/sagemaker-pytorch-2020-04-18-11-15-26-852/output/model.tar.gz\n",
      "sagemaker-pytorch-2020-04-17-13-15-52-328/source/sourcedir.tar.gz\n",
      "sagemaker-pytorch-2020-04-17-15-35-23-165/source/sourcedir.tar.gz\n",
      "sagemaker-pytorch-2020-04-18-10-43-48-443/source/sourcedir.tar.gz\n",
      "sagemaker-pytorch-2020-04-18-11-07-08-631/source/sourcedir.tar.gz\n",
      "sagemaker-pytorch-2020-04-18-11-11-51-394/source/sourcedir.tar.gz\n",
      "sagemaker-pytorch-2020-04-18-11-15-26-852/source/sourcedir.tar.gz\n",
      "sagemaker-pytorch-2020-04-18-11-20-09-593/sourcedir.tar.gz\n",
      "sagemaker-pytorch-2020-04-19-03-55-46-417/debug-output/training_job_end.ts\n",
      "sagemaker-pytorch-2020-04-19-03-55-46-417/output/model.tar.gz\n",
      "sagemaker-pytorch-2020-04-19-03-55-46-417/source/sourcedir.tar.gz\n",
      "sagemaker-pytorch-2020-04-19-06-28-56-545/sourcedir.tar.gz\n",
      "sagemaker-pytorch-2020-04-19-06-40-26-728/sourcedir.tar.gz\n",
      "sagemaker-pytorch-2020-04-20-12-08-03-816/debug-output/training_job_end.ts\n",
      "sagemaker-pytorch-2020-04-20-12-08-03-816/output/model.tar.gz\n",
      "sagemaker-pytorch-2020-04-20-12-08-03-816/source/sourcedir.tar.gz\n",
      "sagemaker-record-sets/KMeans-2020-04-16-12-43-32-707/.amazon.manifest\n",
      "sagemaker-record-sets/KMeans-2020-04-16-12-43-32-707/matrix_0.pbr\n",
      "sagemaker-record-sets/LinearLearner-2020-04-18-03-20-02-091/.amazon.manifest\n",
      "sagemaker-record-sets/LinearLearner-2020-04-18-03-20-02-091/matrix_0.pbr\n",
      "sagemaker-record-sets/LinearLearner-2020-04-18-03-32-27-693/.amazon.manifest\n",
      "sagemaker-record-sets/LinearLearner-2020-04-18-03-32-27-693/matrix_0.pbr\n",
      "sagemaker-record-sets/LinearLearner-2020-04-18-03-36-50-456/.amazon.manifest\n",
      "sagemaker-record-sets/LinearLearner-2020-04-18-03-36-50-456/matrix_0.pbr\n",
      "sagemaker-record-sets/LinearLearner-2020-04-18-03-40-36-033/.amazon.manifest\n",
      "sagemaker-record-sets/LinearLearner-2020-04-18-03-40-36-033/matrix_0.pbr\n",
      "sagemaker-record-sets/PCA-2020-04-15-13-19-43-199/.amazon.manifest\n",
      "sagemaker-record-sets/PCA-2020-04-15-13-19-43-199/matrix_0.pbr\n",
      "sagemaker-record-sets/PCA-2020-04-16-11-59-52-064/.amazon.manifest\n",
      "sagemaker-record-sets/PCA-2020-04-16-11-59-52-064/matrix_0.pbr\n",
      "sagemaker/moon-data/train.csv\n",
      "sagemaker/plagiarism_project/test.csv\n",
      "sagemaker/plagiarism_project/train.csv\n",
      "sagemaker/sentiment_rnn/train.csv\n",
      "sagemaker/sentiment_rnn/word_dict.pkl\n",
      "Test passed!\n"
     ]
    }
   ],
   "source": [
    "\"\"\"\n",
    "DON'T MODIFY ANYTHING IN THIS CELL THAT IS BELOW THIS LINE\n",
    "\"\"\"\n",
    "# confirm that data is in S3 bucket\n",
    "empty_check = []\n",
    "for obj in boto3.resource('s3').Bucket(bucket).objects.all():\n",
    "    empty_check.append(obj.key)\n",
    "    print(obj.key)\n",
    "\n",
    "assert len(empty_check) !=0, 'S3 bucket is empty.'\n",
    "print('Test passed!')"
   ]
  },
  {
   "cell_type": "markdown",
   "metadata": {},
   "source": [
    "---\n",
    "\n",
    "# 建模\n",
    "\n",
    "上传训练数据后，下面定义并训练模型。\n",
    "\n",
    "你可以决定创建什么类型的模型。对于二元分类任务，你可以选择采用以下三种方法之一：\n",
    "* 使用内置的分类算法，例如 LinearLearner。\n",
    "* 定义自定义 Scikit-learn 分类器，可以在[此处](https://scikit-learn.org/stable/auto_examples/classification/plot_classifier_comparison.html)找到各个模型的比较情况。\n",
    "* 定义自定义 PyTorch 神经网络分类器。\n",
    "\n",
    "你需要测试各种模型并选择最佳模型。我们将根据最终模型的准确率对你的项目打分。\n",
    " \n",
    "---\n",
    "\n",
    "## 练习：完成训练脚本\n",
    "\n",
    "为了实现自定义分类器，你需要完成 `train.py` 脚本。我们提供了文件夹 `source_sklearn` 和 `source_pytorch`，其中分别包含自定义 Scikit-learn 模型和 PyTorch 模型的起始代码。每个目录都有一个 `train.py` 训练脚本。要完成此项目，**你只需完成其中一个脚本**，即负责训练最终模型的脚本。\n",
    "\n",
    "典型的训练脚本会：\n",
    "* 从指定的目录加载训练数据\n",
    "* 解析所有的训练和模型超参数（例如神经网络中的节点数，训练周期，等等）\n",
    "* 实例化你设计的模型，并采用指定的超参数\n",
    "* 训练该模型\n",
    "* 最后，保存模型，以便之后托管/部署模型\n",
    "\n",
    "### 定义和训练模型\n",
    "我们已经提供了大部分训练脚本。几乎所有任务都位于 `if __name__ == '__main__':` 部分。为了完成 `train.py` 文件，你需要：\n",
    "1. 导入所需的任何额外库\n",
    "2. 使用 `parser.add_argument` 定义任何其他模型训练超参数\n",
    "2. 在 `if __name__ == '__main__':` 部分定义模型\n",
    "3. 在此部分训练模型\n",
    "\n",
    "你可以在下面使用 `!pygmentize` 显示现有的 `train.py` 文件。请通读代码，所有任务都标有 `TODO` 注释。 \n",
    "\n",
    "**注意：如果你选择创建自定义 PyTorch 模型，需要在 `model.py` 文件中定义模型**，并且我们提供了 `predict.py` 文件。如果你选择使用 Scikit-learn，则只需 `train.py` 文件；你可以从 `sklearn` 库中导入一个分类器。"
   ]
  },
  {
   "cell_type": "code",
   "execution_count": 7,
   "metadata": {},
   "outputs": [
    {
     "name": "stdout",
     "output_type": "stream",
     "text": [
      "\u001b[34mfrom\u001b[39;49;00m \u001b[04m\u001b[36m__future__\u001b[39;49;00m \u001b[34mimport\u001b[39;49;00m print_function\r\n",
      "\r\n",
      "\u001b[34mimport\u001b[39;49;00m \u001b[04m\u001b[36margparse\u001b[39;49;00m\r\n",
      "\u001b[34mimport\u001b[39;49;00m \u001b[04m\u001b[36mos\u001b[39;49;00m\r\n",
      "\u001b[34mimport\u001b[39;49;00m \u001b[04m\u001b[36mpandas\u001b[39;49;00m \u001b[34mas\u001b[39;49;00m \u001b[04m\u001b[36mpd\u001b[39;49;00m\r\n",
      "\r\n",
      "\u001b[34mfrom\u001b[39;49;00m \u001b[04m\u001b[36msklearn.externals\u001b[39;49;00m \u001b[34mimport\u001b[39;49;00m joblib\r\n",
      "\r\n",
      "\u001b[37m## TODO: Import any additional libraries you need to define a model\u001b[39;49;00m\r\n",
      "\r\n",
      "\r\n",
      "\u001b[37m# Provided model load function\u001b[39;49;00m\r\n",
      "\u001b[34mdef\u001b[39;49;00m \u001b[32mmodel_fn\u001b[39;49;00m(model_dir):\r\n",
      "    \u001b[33m\"\"\"Load model from the model_dir. This is the same model that is saved\u001b[39;49;00m\r\n",
      "\u001b[33m    in the main if statement.\u001b[39;49;00m\r\n",
      "\u001b[33m    \"\"\"\u001b[39;49;00m\r\n",
      "    \u001b[34mprint\u001b[39;49;00m(\u001b[33m\"\u001b[39;49;00m\u001b[33mLoading model.\u001b[39;49;00m\u001b[33m\"\u001b[39;49;00m)\r\n",
      "    \r\n",
      "    \u001b[37m# load using joblib\u001b[39;49;00m\r\n",
      "    model = joblib.load(os.path.join(model_dir, \u001b[33m\"\u001b[39;49;00m\u001b[33mmodel.joblib\u001b[39;49;00m\u001b[33m\"\u001b[39;49;00m))\r\n",
      "    \u001b[34mprint\u001b[39;49;00m(\u001b[33m\"\u001b[39;49;00m\u001b[33mDone loading model.\u001b[39;49;00m\u001b[33m\"\u001b[39;49;00m)\r\n",
      "    \r\n",
      "    \u001b[34mreturn\u001b[39;49;00m model\r\n",
      "\r\n",
      "\r\n",
      "\u001b[37m## TODO: Complete the main code\u001b[39;49;00m\r\n",
      "\u001b[34mif\u001b[39;49;00m \u001b[31m__name__\u001b[39;49;00m == \u001b[33m'\u001b[39;49;00m\u001b[33m__main__\u001b[39;49;00m\u001b[33m'\u001b[39;49;00m:\r\n",
      "    \r\n",
      "    \u001b[37m# All of the model parameters and training parameters are sent as arguments\u001b[39;49;00m\r\n",
      "    \u001b[37m# when this script is executed, during a training job\u001b[39;49;00m\r\n",
      "    \r\n",
      "    \u001b[37m# Here we set up an argument parser to easily access the parameters\u001b[39;49;00m\r\n",
      "    parser = argparse.ArgumentParser()\r\n",
      "\r\n",
      "    \u001b[37m# SageMaker parameters, like the directories for training data and saving models; set automatically\u001b[39;49;00m\r\n",
      "    \u001b[37m# Do not need to change\u001b[39;49;00m\r\n",
      "    parser.add_argument(\u001b[33m'\u001b[39;49;00m\u001b[33m--output-data-dir\u001b[39;49;00m\u001b[33m'\u001b[39;49;00m, \u001b[36mtype\u001b[39;49;00m=\u001b[36mstr\u001b[39;49;00m, default=os.environ[\u001b[33m'\u001b[39;49;00m\u001b[33mSM_OUTPUT_DATA_DIR\u001b[39;49;00m\u001b[33m'\u001b[39;49;00m])\r\n",
      "    parser.add_argument(\u001b[33m'\u001b[39;49;00m\u001b[33m--model-dir\u001b[39;49;00m\u001b[33m'\u001b[39;49;00m, \u001b[36mtype\u001b[39;49;00m=\u001b[36mstr\u001b[39;49;00m, default=os.environ[\u001b[33m'\u001b[39;49;00m\u001b[33mSM_MODEL_DIR\u001b[39;49;00m\u001b[33m'\u001b[39;49;00m])\r\n",
      "    parser.add_argument(\u001b[33m'\u001b[39;49;00m\u001b[33m--data-dir\u001b[39;49;00m\u001b[33m'\u001b[39;49;00m, \u001b[36mtype\u001b[39;49;00m=\u001b[36mstr\u001b[39;49;00m, default=os.environ[\u001b[33m'\u001b[39;49;00m\u001b[33mSM_CHANNEL_TRAIN\u001b[39;49;00m\u001b[33m'\u001b[39;49;00m])\r\n",
      "    \r\n",
      "    \u001b[37m## TODO: Add any additional arguments that you will need to pass into your model\u001b[39;49;00m\r\n",
      "    \r\n",
      "    \u001b[37m# args holds all passed-in arguments\u001b[39;49;00m\r\n",
      "    args = parser.parse_args()\r\n",
      "\r\n",
      "    \u001b[37m# Read in csv training file\u001b[39;49;00m\r\n",
      "    training_dir = args.data_dir\r\n",
      "    train_data = pd.read_csv(os.path.join(training_dir, \u001b[33m\"\u001b[39;49;00m\u001b[33mtrain.csv\u001b[39;49;00m\u001b[33m\"\u001b[39;49;00m), header=\u001b[36mNone\u001b[39;49;00m, names=\u001b[36mNone\u001b[39;49;00m)\r\n",
      "\r\n",
      "    \u001b[37m# Labels are in the first column\u001b[39;49;00m\r\n",
      "    train_y = train_data.iloc[:,\u001b[34m0\u001b[39;49;00m]\r\n",
      "    train_x = train_data.iloc[:,\u001b[34m1\u001b[39;49;00m:]\r\n",
      "    \r\n",
      "    \r\n",
      "    \u001b[37m## --- Your code here --- ##\u001b[39;49;00m\r\n",
      "    \r\n",
      "\r\n",
      "    \u001b[37m## TODO: Define a model \u001b[39;49;00m\r\n",
      "    model = \u001b[36mNone\u001b[39;49;00m\r\n",
      "    \r\n",
      "    \r\n",
      "    \u001b[37m## TODO: Train the model\u001b[39;49;00m\r\n",
      "    \r\n",
      "    \r\n",
      "    \r\n",
      "    \u001b[37m## --- End of your code  --- ##\u001b[39;49;00m\r\n",
      "    \r\n",
      "\r\n",
      "    \u001b[37m# Save the trained model\u001b[39;49;00m\r\n",
      "    joblib.dump(model, os.path.join(args.model_dir, \u001b[33m\"\u001b[39;49;00m\u001b[33mmodel.joblib\u001b[39;49;00m\u001b[33m\"\u001b[39;49;00m))\r\n"
     ]
    }
   ],
   "source": [
    "# directory can be changed to: source_sklearn or source_pytorch\n",
    "!pygmentize source_sklearn/train.py"
   ]
  },
  {
   "cell_type": "markdown",
   "metadata": {},
   "source": [
    "### 提供的代码\n",
    "\n",
    "如果你阅读了上述代码，就会发现起始代码包含：\n",
    "* 模型加载 (`model_fn`) 和保存代码\n",
    "* 获取 SageMaker 的默认超参数\n",
    "* 按照名称 `train.csv` 加载训练数据，并提取特征和标签 `train_x` 和 `train_y`\n",
    "\n",
    "如果你想详细了解如何通过 [joblib for sklearn](https://scikit-learn.org/stable/modules/model_persistence.html) 或 [torch.save](https://pytorch.org/tutorials/beginner/saving_loading_models.html) 保存模型，请点击提供的链接。"
   ]
  },
  {
   "cell_type": "markdown",
   "metadata": {},
   "source": [
    "---\n",
    "# 创建评估器\n",
    "\n",
    "在 SageMaker 中构建自定义模型时，必须指定入口点。入口点是一个 Python 文件，当模型被训练时，该文件将执行，即你在上面指定的 `train.py` 函数。要在 SageMaker 中运行自定义训练脚本，你需要构建评估器并指定相应的构造函数参数：\n",
    "\n",
    "* **entry_point**：SageMaker 训练模型和预测时运行的 Python 脚本的路径。\n",
    "* **source_dir**：训练脚本目录 `source_sklearn` 或 `source_pytorch` 的路径。\n",
    "* **entry_point**：SageMaker 训练模型和预测时运行的 Python 脚本的路径。\n",
    "* **source_dir**：训练脚本目录 `train_sklearn` 或 `train_pytorch` 的路径。\n",
    "* **entry_point**：SageMaker 训练模型时运行的 Python 脚本的路径。\n",
    "* **source_dir**：训练脚本目录 `train_sklearn` 或 `train_pytorch` 的路径。\n",
    "* **role**：角色 ARN，在上面已指定。\n",
    "* **train_instance_count**：训练实例的数量（应该保留为 1）。\n",
    "* **train_instance_type**：SageMaker 训练实例的类型。注意，因为 Scikit-learn 不提供 GPU 训练原生支持，所以 Sagemaker Scikit-learn 目前不支持在 GPU 实例上训练模型。\n",
    "* **sagemaker_session**：在 Sagemaker 中训练时使用的会话。\n",
    "* **hyperparameters**（可选）：作为超参数传递给训练函数的字典 `{'name':value, ..}`。\n",
    "\n",
    "注意：对于 PyTorch 模型，还有一个可选参数 **framework_version**，你可以将其设为最新的 PyTorch 版本 `1.0`。\n",
    "\n",
    "## 练习：定义 Scikit-learn 或 PyTorch 评估器\n",
    "\n",
    "你可以使用以下命令之一导入一个评估器：\n",
    "```\n",
    "from sagemaker.sklearn.estimator import SKLearn\n",
    "```\n",
    "```\n",
    "from sagemaker.pytorch import PyTorch\n",
    "```"
   ]
  },
  {
   "cell_type": "code",
   "execution_count": 8,
   "metadata": {},
   "outputs": [],
   "source": [
    "from sagemaker.sklearn.estimator import SKLearn"
   ]
  },
  {
   "cell_type": "code",
   "execution_count": 9,
   "metadata": {},
   "outputs": [],
   "source": [
    "prefix = 'plagiarismproject'\n",
    "outpath='s3://{}/{}'.format(bucket, prefix)"
   ]
  },
  {
   "cell_type": "code",
   "execution_count": 10,
   "metadata": {},
   "outputs": [],
   "source": [
    "\n",
    "# your import and estimator code, here\n",
    "estimator = SKLearn(entry_point='train.py',\n",
    "                   source_dir='source_sklearn',\n",
    "                   role=role,\n",
    "                   train_instance_count=1,\n",
    "                   train_instance_type='ml.c4.xlarge',\n",
    "                   output_path=outpath,\n",
    "                   sagemaker_session=sagemaker_session)"
   ]
  },
  {
   "cell_type": "markdown",
   "metadata": {},
   "source": [
    "## 练习：训练评估器\n",
    "\n",
    "使用在 S3 中存储的训练数据训练评估器。代码应该创建一个训练作业，你可以在 SageMaker 控制台中监控该作业。"
   ]
  },
  {
   "cell_type": "code",
   "execution_count": 11,
   "metadata": {},
   "outputs": [
    {
     "name": "stdout",
     "output_type": "stream",
     "text": [
      "2020-04-23 11:59:56 Starting - Starting the training job...\n",
      "2020-04-23 11:59:58 Starting - Launching requested ML instances......\n",
      "2020-04-23 12:00:59 Starting - Preparing the instances for training...\n",
      "2020-04-23 12:01:44 Downloading - Downloading input data...\n",
      "2020-04-23 12:02:14 Training - Downloading the training image..\u001b[34m2020-04-23 12:02:29,097 sagemaker-containers INFO     Imported framework sagemaker_sklearn_container.training\u001b[0m\n",
      "\u001b[34m2020-04-23 12:02:29,100 sagemaker-containers INFO     No GPUs detected (normal if no gpus installed)\u001b[0m\n",
      "\u001b[34m2020-04-23 12:02:29,110 sagemaker_sklearn_container.training INFO     Invoking user training script.\u001b[0m\n",
      "\u001b[34m2020-04-23 12:02:29,410 sagemaker-containers INFO     Module train does not provide a setup.py. \u001b[0m\n",
      "\u001b[34mGenerating setup.py\u001b[0m\n",
      "\u001b[34m2020-04-23 12:02:29,411 sagemaker-containers INFO     Generating setup.cfg\u001b[0m\n",
      "\u001b[34m2020-04-23 12:02:29,411 sagemaker-containers INFO     Generating MANIFEST.in\u001b[0m\n",
      "\u001b[34m2020-04-23 12:02:29,411 sagemaker-containers INFO     Installing module with the following command:\u001b[0m\n",
      "\u001b[34m/miniconda3/bin/python -m pip install . \u001b[0m\n",
      "\u001b[34mProcessing /opt/ml/code\u001b[0m\n",
      "\u001b[34mBuilding wheels for collected packages: train\n",
      "  Building wheel for train (setup.py): started\n",
      "  Building wheel for train (setup.py): finished with status 'done'\n",
      "  Created wheel for train: filename=train-1.0.0-py2.py3-none-any.whl size=5831 sha256=855e786378e1b3c6f0f54af158daa9c34445c89d587ef09f2af18c7e0ca3fecf\n",
      "  Stored in directory: /tmp/pip-ephem-wheel-cache-vy0pph3k/wheels/35/24/16/37574d11bf9bde50616c67372a334f94fa8356bc7164af8ca3\u001b[0m\n",
      "\u001b[34mSuccessfully built train\u001b[0m\n",
      "\u001b[34mInstalling collected packages: train\u001b[0m\n",
      "\u001b[34mSuccessfully installed train-1.0.0\u001b[0m\n",
      "\u001b[34m2020-04-23 12:02:30,810 sagemaker-containers INFO     No GPUs detected (normal if no gpus installed)\u001b[0m\n",
      "\u001b[34m2020-04-23 12:02:30,821 sagemaker-containers INFO     Invoking user script\n",
      "\u001b[0m\n",
      "\u001b[34mTraining Env:\n",
      "\u001b[0m\n",
      "\u001b[34m{\n",
      "    \"additional_framework_parameters\": {},\n",
      "    \"channel_input_dirs\": {\n",
      "        \"train\": \"/opt/ml/input/data/train\"\n",
      "    },\n",
      "    \"current_host\": \"algo-1\",\n",
      "    \"framework_module\": \"sagemaker_sklearn_container.training:main\",\n",
      "    \"hosts\": [\n",
      "        \"algo-1\"\n",
      "    ],\n",
      "    \"hyperparameters\": {},\n",
      "    \"input_config_dir\": \"/opt/ml/input/config\",\n",
      "    \"input_data_config\": {\n",
      "        \"train\": {\n",
      "            \"TrainingInputMode\": \"File\",\n",
      "            \"S3DistributionType\": \"FullyReplicated\",\n",
      "            \"RecordWrapperType\": \"None\"\n",
      "        }\n",
      "    },\n",
      "    \"input_dir\": \"/opt/ml/input\",\n",
      "    \"is_master\": true,\n",
      "    \"job_name\": \"sagemaker-scikit-learn-2020-04-23-11-59-56-079\",\n",
      "    \"log_level\": 20,\n",
      "    \"master_hostname\": \"algo-1\",\n",
      "    \"model_dir\": \"/opt/ml/model\",\n",
      "    \"module_dir\": \"s3://sagemaker-us-west-2-270372225889/sagemaker-scikit-learn-2020-04-23-11-59-56-079/source/sourcedir.tar.gz\",\n",
      "    \"module_name\": \"train\",\n",
      "    \"network_interface_name\": \"eth0\",\n",
      "    \"num_cpus\": 4,\n",
      "    \"num_gpus\": 0,\n",
      "    \"output_data_dir\": \"/opt/ml/output/data\",\n",
      "    \"output_dir\": \"/opt/ml/output\",\n",
      "    \"output_intermediate_dir\": \"/opt/ml/output/intermediate\",\n",
      "    \"resource_config\": {\n",
      "        \"current_host\": \"algo-1\",\n",
      "        \"hosts\": [\n",
      "            \"algo-1\"\n",
      "        ],\n",
      "        \"network_interface_name\": \"eth0\"\n",
      "    },\n",
      "    \"user_entry_point\": \"train.py\"\u001b[0m\n",
      "\u001b[34m}\n",
      "\u001b[0m\n",
      "\u001b[34mEnvironment variables:\n",
      "\u001b[0m\n",
      "\u001b[34mSM_HOSTS=[\"algo-1\"]\u001b[0m\n",
      "\u001b[34mSM_NETWORK_INTERFACE_NAME=eth0\u001b[0m\n",
      "\u001b[34mSM_HPS={}\u001b[0m\n",
      "\u001b[34mSM_USER_ENTRY_POINT=train.py\u001b[0m\n",
      "\u001b[34mSM_FRAMEWORK_PARAMS={}\u001b[0m\n",
      "\u001b[34mSM_RESOURCE_CONFIG={\"current_host\":\"algo-1\",\"hosts\":[\"algo-1\"],\"network_interface_name\":\"eth0\"}\u001b[0m\n",
      "\u001b[34mSM_INPUT_DATA_CONFIG={\"train\":{\"RecordWrapperType\":\"None\",\"S3DistributionType\":\"FullyReplicated\",\"TrainingInputMode\":\"File\"}}\u001b[0m\n",
      "\u001b[34mSM_OUTPUT_DATA_DIR=/opt/ml/output/data\u001b[0m\n",
      "\u001b[34mSM_CHANNELS=[\"train\"]\u001b[0m\n",
      "\u001b[34mSM_CURRENT_HOST=algo-1\u001b[0m\n",
      "\u001b[34mSM_MODULE_NAME=train\u001b[0m\n",
      "\u001b[34mSM_LOG_LEVEL=20\u001b[0m\n",
      "\u001b[34mSM_FRAMEWORK_MODULE=sagemaker_sklearn_container.training:main\u001b[0m\n",
      "\u001b[34mSM_INPUT_DIR=/opt/ml/input\u001b[0m\n",
      "\u001b[34mSM_INPUT_CONFIG_DIR=/opt/ml/input/config\u001b[0m\n",
      "\u001b[34mSM_OUTPUT_DIR=/opt/ml/output\u001b[0m\n",
      "\u001b[34mSM_NUM_CPUS=4\u001b[0m\n",
      "\u001b[34mSM_NUM_GPUS=0\u001b[0m\n",
      "\u001b[34mSM_MODEL_DIR=/opt/ml/model\u001b[0m\n",
      "\u001b[34mSM_MODULE_DIR=s3://sagemaker-us-west-2-270372225889/sagemaker-scikit-learn-2020-04-23-11-59-56-079/source/sourcedir.tar.gz\u001b[0m\n",
      "\u001b[34mSM_TRAINING_ENV={\"additional_framework_parameters\":{},\"channel_input_dirs\":{\"train\":\"/opt/ml/input/data/train\"},\"current_host\":\"algo-1\",\"framework_module\":\"sagemaker_sklearn_container.training:main\",\"hosts\":[\"algo-1\"],\"hyperparameters\":{},\"input_config_dir\":\"/opt/ml/input/config\",\"input_data_config\":{\"train\":{\"RecordWrapperType\":\"None\",\"S3DistributionType\":\"FullyReplicated\",\"TrainingInputMode\":\"File\"}},\"input_dir\":\"/opt/ml/input\",\"is_master\":true,\"job_name\":\"sagemaker-scikit-learn-2020-04-23-11-59-56-079\",\"log_level\":20,\"master_hostname\":\"algo-1\",\"model_dir\":\"/opt/ml/model\",\"module_dir\":\"s3://sagemaker-us-west-2-270372225889/sagemaker-scikit-learn-2020-04-23-11-59-56-079/source/sourcedir.tar.gz\",\"module_name\":\"train\",\"network_interface_name\":\"eth0\",\"num_cpus\":4,\"num_gpus\":0,\"output_data_dir\":\"/opt/ml/output/data\",\"output_dir\":\"/opt/ml/output\",\"output_intermediate_dir\":\"/opt/ml/output/intermediate\",\"resource_config\":{\"current_host\":\"algo-1\",\"hosts\":[\"algo-1\"],\"network_interface_name\":\"eth0\"},\"user_entry_point\":\"train.py\"}\u001b[0m\n",
      "\u001b[34mSM_USER_ARGS=[]\u001b[0m\n",
      "\u001b[34mSM_OUTPUT_INTERMEDIATE_DIR=/opt/ml/output/intermediate\u001b[0m\n",
      "\u001b[34mSM_CHANNEL_TRAIN=/opt/ml/input/data/train\u001b[0m\n",
      "\u001b[34mPYTHONPATH=/miniconda3/bin:/miniconda3/lib/python37.zip:/miniconda3/lib/python3.7:/miniconda3/lib/python3.7/lib-dynload:/miniconda3/lib/python3.7/site-packages\n",
      "\u001b[0m\n",
      "\u001b[34mInvoking script with the following command:\n",
      "\u001b[0m\n",
      "\u001b[34m/miniconda3/bin/python -m train\n",
      "\n",
      "\u001b[0m\n",
      "\u001b[34m/miniconda3/lib/python3.7/site-packages/sklearn/externals/joblib/externals/cloudpickle/cloudpickle.py:47: DeprecationWarning: the imp module is deprecated in favour of importlib; see the module's documentation for alternative uses\n",
      "  import imp\u001b[0m\n",
      "\u001b[34m/miniconda3/lib/python3.7/site-packages/sklearn/linear_model/stochastic_gradient.py:144: FutureWarning: max_iter and tol parameters have been added in SGDClassifier in 0.19. If both are left unset, they default to max_iter=5 and tol=None. If tol is not None, max_iter defaults to max_iter=1000. From 0.21, default max_iter will be 1000, and default tol will be 1e-3.\n",
      "  FutureWarning)\u001b[0m\n",
      "\u001b[34m2020-04-23 12:02:32,233 sagemaker-containers INFO     Reporting training SUCCESS\u001b[0m\n",
      "\n",
      "2020-04-23 12:02:41 Uploading - Uploading generated training model\n",
      "2020-04-23 12:02:41 Completed - Training job completed\n",
      "Training seconds: 57\n",
      "Billable seconds: 57\n",
      "CPU times: user 385 ms, sys: 26.2 ms, total: 411 ms\n",
      "Wall time: 3min 11s\n"
     ]
    }
   ],
   "source": [
    "%%time\n",
    "\n",
    "# Train your estimator on S3 training data\n",
    "estimator.fit({'train': input_data})\n"
   ]
  },
  {
   "cell_type": "markdown",
   "metadata": {},
   "source": [
    "## 练习：部署训练过的模型\n",
    "\n",
    "训练之后，部署模型以创建 `predictor`。如果你使用的是 PyTorch 模型，你需要创建一个训练过的 `PyTorchModel`，它会接受训练过的 `<model>.model_data` 作为输入参数，并指向提供的 `source_pytorch/predict.py` 文件作为入口点。\n",
    "\n",
    "为了部署训练过的模型，你需要使用 `<model>.deploy`，它接受两个参数：\n",
    "* **initial_instance_count**：部署实例的数量 (1)。\n",
    "* **instance_type**：部署 SageMaker 实例的类型。\n",
    "\n",
    "注意：如果你遇到实例错误，可能是因为你选择了错误的训练或部署实例类型。建议参考之前的练习代码，看看我们使用了哪种类型的实例。"
   ]
  },
  {
   "cell_type": "code",
   "execution_count": 12,
   "metadata": {},
   "outputs": [
    {
     "name": "stdout",
     "output_type": "stream",
     "text": [
      "---------------!CPU times: user 249 ms, sys: 14.7 ms, total: 263 ms\n",
      "Wall time: 7min 32s\n"
     ]
    }
   ],
   "source": [
    "%%time\n",
    "\n",
    "# uncomment, if needed\n",
    "# from sagemaker.pytorch import PyTorchModel\n",
    "\n",
    "\n",
    "# deploy your model to create a predictor\n",
    "predictor = estimator.deploy(initial_instance_count=1, instance_type='ml.t2.medium')\n"
   ]
  },
  {
   "cell_type": "markdown",
   "metadata": {},
   "source": [
    "---\n",
    "# 评估模型\n",
    "\n",
    "模型部署后，你可以将模型应用到测试数据上，看看模型的效果如何。\n",
    "\n",
    "下面提供的单元格会读入测试数据，并假设它存储在本地 `data_dir` 目录下，名称为 `test.csv`。标签和特征是从 `.csv` 文件提取的。"
   ]
  },
  {
   "cell_type": "code",
   "execution_count": 13,
   "metadata": {},
   "outputs": [],
   "source": [
    "\"\"\"\n",
    "DON'T MODIFY ANYTHING IN THIS CELL THAT IS BELOW THIS LINE\n",
    "\"\"\"\n",
    "import os\n",
    "\n",
    "# read in test data, assuming it is stored locally\n",
    "test_data = pd.read_csv(os.path.join(data_dir, \"test.csv\"), header=None, names=None)\n",
    "\n",
    "# labels are in the first column\n",
    "test_y = test_data.iloc[:,0]\n",
    "test_x = test_data.iloc[:,1:]"
   ]
  },
  {
   "cell_type": "markdown",
   "metadata": {},
   "source": [
    "## 练习：确定模型的准确率\n",
    "\n",
    "使用部署的 `predictor` 为测试数据预测类别标签。将这些标签与真实标签 `test_y` 进行比较，并计算 0-1 之间的准确率，表示模型分类正确的测试数据所占的比例。你可以使用 [sklearn.metrics](https://scikit-learn.org/stable/modules/classes.html#module-sklearn.metrics) 计算准确率。\n",
    "\n",
    "**要通过此项目，你的模型测试准确率应至少达到 90%。**"
   ]
  },
  {
   "cell_type": "code",
   "execution_count": 14,
   "metadata": {},
   "outputs": [
    {
     "name": "stdout",
     "output_type": "stream",
     "text": [
      "Test passed!\n"
     ]
    }
   ],
   "source": [
    "# First: generate predicted, class labels\n",
    "test_y_preds = predictor.predict(test_x)\n",
    "\n",
    "\n",
    "\"\"\"\n",
    "DON'T MODIFY ANYTHING IN THIS CELL THAT IS BELOW THIS LINE\n",
    "\"\"\"\n",
    "# test that your model generates the correct number of labels\n",
    "assert len(test_y_preds)==len(test_y), 'Unexpected number of predictions.'\n",
    "print('Test passed!')"
   ]
  },
  {
   "cell_type": "code",
   "execution_count": 15,
   "metadata": {},
   "outputs": [],
   "source": [
    "from sklearn.metrics import accuracy_score"
   ]
  },
  {
   "cell_type": "code",
   "execution_count": 16,
   "metadata": {},
   "outputs": [
    {
     "name": "stdout",
     "output_type": "stream",
     "text": [
      "0.96\n",
      "\n",
      "Predicted class labels: \n",
      "[1 1 1 1 1 1 0 0 0 0 0 0 0 1 1 1 1 1 0 1 0 1 1 0 0]\n",
      "\n",
      "True class labels: \n",
      "[1 1 1 1 1 1 0 0 0 0 0 0 1 1 1 1 1 1 0 1 0 1 1 0 0]\n"
     ]
    }
   ],
   "source": [
    "# Second: calculate the test accuracy\n",
    "accuracy = accuracy_score(test_y, test_y_preds)\n",
    "\n",
    "print(accuracy)\n",
    "\n",
    "\n",
    "## print out the array of predicted and true labels, if you want\n",
    "print('\\nPredicted class labels: ')\n",
    "print(test_y_preds)\n",
    "print('\\nTrue class labels: ')\n",
    "print(test_y.values)"
   ]
  },
  {
   "cell_type": "markdown",
   "metadata": {},
   "source": [
    "### 问题 1：你的模型生成了多少个假正例和假负例？为何会这样？"
   ]
  },
  {
   "cell_type": "code",
   "execution_count": 21,
   "metadata": {},
   "outputs": [
    {
     "data": {
      "text/plain": [
       "1    0.619792\n",
       "2    0.100000\n",
       "3    0.026596\n",
       "4    0.341584\n",
       "Name: 12, dtype: float64"
      ]
     },
     "execution_count": 21,
     "metadata": {},
     "output_type": "execute_result"
    }
   ],
   "source": [
    "test_x.iloc[12,:]"
   ]
  },
  {
   "cell_type": "markdown",
   "metadata": {},
   "source": [
    "**回答：**\n",
    "\n",
    "没有产生False Positive，产生了1个False Negative。从数据上来看，产生False Negative的ngram参数确实并没有很明显的高。因此模型在该项上产生了误判。但是总体来说是可以接受的。\n",
    "\n"
   ]
  },
  {
   "cell_type": "markdown",
   "metadata": {},
   "source": [
    "### 问题 2：你是如何决定要使用什么类型的模型？"
   ]
  },
  {
   "cell_type": "markdown",
   "metadata": {},
   "source": [
    "**回答：**\n",
    "\n",
    "这是一个Classification问题。因此可选的包括LinearSVC, Naive Bayes, SGDClassifier, Dicision Tree等等。因为输入基本都为数值，而非bool型，因此排除了Dicision Tree。其他并无特殊偏好。"
   ]
  },
  {
   "cell_type": "markdown",
   "metadata": {},
   "source": [
    "----\n",
    "## 练习：清理资源\n",
    "\n",
    "评估完模型后，记得**删除模型端点**。你可以通过调用 `.delete_endpoint()` 删除端点。你需要在此 notebook 中演示端点已删除。你可以从 AWS 控制台删除任何其他资源，并且在下面找到更多关于删除所有资源的说明。"
   ]
  },
  {
   "cell_type": "code",
   "execution_count": 17,
   "metadata": {},
   "outputs": [],
   "source": [
    "# uncomment and fill in the line below!\n",
    "predictor.delete_endpoint()\n"
   ]
  },
  {
   "cell_type": "markdown",
   "metadata": {},
   "source": [
    "### 删除 S3 存储桶\n",
    "\n",
    "完全训练和测试完模型后，你可以删除整个 S3 存储桶。如果你在训练模型之前删除存储桶，需要重新创建 S3 存储桶并将训练数据再次上传到存储桶中。"
   ]
  },
  {
   "cell_type": "code",
   "execution_count": 18,
   "metadata": {},
   "outputs": [
    {
     "data": {
      "text/plain": [
       "[{'ResponseMetadata': {'RequestId': '21AAEE1AD1D2CE37',\n",
       "   'HostId': 'tFyM1varM7dP13/cd7SC1KjX6YB5KzFxrtLcQP9zTFuGk9DN217eTrCDH0c2dmqbk0VE1XEDmpA=',\n",
       "   'HTTPStatusCode': 200,\n",
       "   'HTTPHeaders': {'x-amz-id-2': 'tFyM1varM7dP13/cd7SC1KjX6YB5KzFxrtLcQP9zTFuGk9DN217eTrCDH0c2dmqbk0VE1XEDmpA=',\n",
       "    'x-amz-request-id': '21AAEE1AD1D2CE37',\n",
       "    'date': 'Thu, 23 Apr 2020 12:15:21 GMT',\n",
       "    'connection': 'close',\n",
       "    'content-type': 'application/xml',\n",
       "    'transfer-encoding': 'chunked',\n",
       "    'server': 'AmazonS3'},\n",
       "   'RetryAttempts': 0},\n",
       "  'Deleted': [{'Key': 'sagemaker-pytorch-2020-04-17-15-35-23-165/source/sourcedir.tar.gz'},\n",
       "   {'Key': 'sagemaker-pytorch-2020-04-20-12-08-03-816/source/sourcedir.tar.gz'},\n",
       "   {'Key': 'sagemaker-record-sets/PCA-2020-04-15-13-19-43-199/.amazon.manifest'},\n",
       "   {'Key': 'sagemaker-pytorch-2020-04-19-03-55-46-417/debug-output/training_job_end.ts'},\n",
       "   {'Key': 'sagemaker-record-sets/LinearLearner-2020-04-18-03-36-50-456/.amazon.manifest'},\n",
       "   {'Key': 'sagemaker-pytorch-2020-04-20-12-08-03-816/output/model.tar.gz'},\n",
       "   {'Key': 'sagemaker-pytorch-2020-04-18-10-43-48-443/source/sourcedir.tar.gz'},\n",
       "   {'Key': 'sagemaker/plagiarism_project/test.csv'},\n",
       "   {'Key': 'sagemaker/sentiment_rnn/train.csv'},\n",
       "   {'Key': 'moonproject/sagemaker-pytorch-2020-04-18-11-15-26-852/output/model.tar.gz'},\n",
       "   {'Key': 'sagemaker-record-sets/LinearLearner-2020-04-18-03-32-27-693/.amazon.manifest'},\n",
       "   {'Key': 'counties/pca-2020-04-15-13-19-51-881/output/model.tar.gz'},\n",
       "   {'Key': 'sagemaker-record-sets/LinearLearner-2020-04-18-03-20-02-091/matrix_0.pbr'},\n",
       "   {'Key': 'linear-learner-2020-04-18-03-41-05-401/output/model.tar.gz'},\n",
       "   {'Key': 'sagemaker-pytorch-2020-04-19-03-55-46-417/source/sourcedir.tar.gz'},\n",
       "   {'Key': 'creditcard/linear-learner-2020-04-18-04-54-20-427/output/model.tar.gz'},\n",
       "   {'Key': 'sagemaker-pytorch-2020-04-19-03-55-46-417/output/model.tar.gz'},\n",
       "   {'Key': 'sagemaker/moon-data/train.csv'},\n",
       "   {'Key': 'sagemaker-record-sets/PCA-2020-04-16-11-59-52-064/matrix_0.pbr'},\n",
       "   {'Key': 'sagemaker-pytorch-2020-04-18-11-11-51-394/source/sourcedir.tar.gz'},\n",
       "   {'Key': 'sagemaker-record-sets/LinearLearner-2020-04-18-03-40-36-033/.amazon.manifest'},\n",
       "   {'Key': 'counties/kmeans-2020-04-16-12-43-56-604/output/model.tar.gz'},\n",
       "   {'Key': 'sagemaker-pytorch-2020-04-18-11-20-09-593/sourcedir.tar.gz'},\n",
       "   {'Key': 'sagemaker-pytorch-2020-04-19-06-28-56-545/sourcedir.tar.gz'},\n",
       "   {'Key': 'creditcard/linear-learner-2020-04-18-04-35-18-741/output/model.tar.gz'},\n",
       "   {'Key': 'sagemaker-record-sets/PCA-2020-04-15-13-19-43-199/matrix_0.pbr'},\n",
       "   {'Key': 'sagemaker-pytorch-2020-04-17-13-15-52-328/source/sourcedir.tar.gz'},\n",
       "   {'Key': 'sagemaker-scikit-learn-2020-04-23-11-59-56-079/source/sourcedir.tar.gz'},\n",
       "   {'Key': 'sagemaker-record-sets/KMeans-2020-04-16-12-43-32-707/matrix_0.pbr'},\n",
       "   {'Key': 'sagemaker-record-sets/KMeans-2020-04-16-12-43-32-707/.amazon.manifest'},\n",
       "   {'Key': 'sagemaker-pytorch-2020-04-18-11-07-08-631/source/sourcedir.tar.gz'},\n",
       "   {'Key': 'sagemaker-record-sets/LinearLearner-2020-04-18-03-32-27-693/matrix_0.pbr'},\n",
       "   {'Key': 'sagemaker/plagiarism_project/train.csv'},\n",
       "   {'Key': 'moonproject/sagemaker-pytorch-2020-04-18-11-15-26-852/debug-output/training_job_end.ts'},\n",
       "   {'Key': 'sagemaker-record-sets/LinearLearner-2020-04-18-03-36-50-456/matrix_0.pbr'},\n",
       "   {'Key': 'sagemaker/sentiment_rnn/word_dict.pkl'},\n",
       "   {'Key': 'counties/pca-2020-04-16-12-05-18-083/output/model.tar.gz'},\n",
       "   {'Key': 'sagemaker-pytorch-2020-04-20-12-08-03-816/debug-output/training_job_end.ts'},\n",
       "   {'Key': 'sagemaker-record-sets/LinearLearner-2020-04-18-03-40-36-033/matrix_0.pbr'},\n",
       "   {'Key': 'sagemaker-pytorch-2020-04-18-11-15-26-852/source/sourcedir.tar.gz'},\n",
       "   {'Key': 'plagiarismproject/sagemaker-scikit-learn-2020-04-23-11-59-56-079/output/model.tar.gz'},\n",
       "   {'Key': 'sagemaker-pytorch-2020-04-19-06-40-26-728/sourcedir.tar.gz'},\n",
       "   {'Key': 'sagemaker-record-sets/LinearLearner-2020-04-18-03-20-02-091/.amazon.manifest'},\n",
       "   {'Key': 'plagiarismproject/sagemaker-scikit-learn-2020-04-23-11-59-56-079/debug-output/training_job_end.ts'},\n",
       "   {'Key': 'sagemaker-record-sets/PCA-2020-04-16-11-59-52-064/.amazon.manifest'}]}]"
      ]
     },
     "execution_count": 18,
     "metadata": {},
     "output_type": "execute_result"
    }
   ],
   "source": [
    "# deleting bucket, uncomment lines below\n",
    "\n",
    "bucket_to_delete = boto3.resource('s3').Bucket(bucket)\n",
    "bucket_to_delete.objects.all().delete()"
   ]
  },
  {
   "cell_type": "markdown",
   "metadata": {},
   "source": [
    "### 删除所有模型和实例\n",
    "\n",
    "当你完全处理完模型，并且**不**需要重新访问此 notebook，你可以根据[这些说明](https://docs.aws.amazon.com/sagemaker/latest/dg/ex1-cleanup.html)删除所有 SageMaker notebook 实例和模型。在删除此 notebook 实例之前，建议至少下载一个副本并将其保存到本地。"
   ]
  },
  {
   "cell_type": "markdown",
   "metadata": {},
   "source": [
    "---\n",
    "## 后续改进建议\n",
    "\n",
    "此项目还有很多改进或扩展方式，可以拓宽你的知识面，或让此项目更独特。下面是一些建议：\n",
    "* 训练分类器预测剽窃类别 (1-3)，而不仅仅是剽窃 (1) 或非剽窃 (0)。\n",
    "* 利用其他更大型的数据集检测此模型能否扩展到其他类型的剽窃行为。\n",
    "* 利用语言或字符级分析寻找不同（及更多）相似性特征。\n",
    "* 编写完整的管道函数，它会接受原文和提交的文本，并将提交的文本分类为剽窃或非剽窃文本。\n",
    "* 使用 API Gateway 和 lambda 函数将模型部署到网络应用上。\n",
    "\n",
    "这些都只是扩展项目的建议。如果你完成了此 notebook 中的所有练习，你已经完成了一个真实的应用，可以提交项目了。棒棒哒！"
   ]
  }
 ],
 "metadata": {
  "kernelspec": {
   "display_name": "conda_pytorch_p36",
   "language": "python",
   "name": "conda_pytorch_p36"
  },
  "language_info": {
   "codemirror_mode": {
    "name": "ipython",
    "version": 3
   },
   "file_extension": ".py",
   "mimetype": "text/x-python",
   "name": "python",
   "nbconvert_exporter": "python",
   "pygments_lexer": "ipython3",
   "version": "3.6.5"
  }
 },
 "nbformat": 4,
 "nbformat_minor": 2
}
